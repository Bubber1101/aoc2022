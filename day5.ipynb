{
 "cells": [
  {
   "cell_type": "code",
   "execution_count": 101,
   "outputs": [],
   "source": [],
   "metadata": {
    "collapsed": false
   }
  },
  {
   "cell_type": "code",
   "execution_count": 102,
   "metadata": {
    "collapsed": true
   },
   "outputs": [],
   "source": [
    "import re\n",
    "\n",
    "lines = [x for x in open(\"inputs/day5.txt\").readlines()]"
   ]
  },
  {
   "cell_type": "code",
   "execution_count": 103,
   "outputs": [],
   "source": [
    "empty = lines.index(\"\\n\")\n",
    "\n",
    "stacks_input = lines[0:empty-1]\n",
    "index_line = lines[empty-1]\n",
    "actions_input = lines[empty+1:]\n",
    "column_index = [i.start() for i in re.finditer(r'\\d', index_line)]"
   ],
   "metadata": {
    "collapsed": false
   }
  },
  {
   "cell_type": "code",
   "execution_count": 110,
   "outputs": [],
   "source": [
    "stacks = []\n",
    "for j in column_index:\n",
    "    column = []\n",
    "    for i in range(1, len(stacks_input)+1):\n",
    "        val = stacks_input[-i][j]\n",
    "        if not val.isspace():\n",
    "            column.append(val)\n",
    "    stacks.append(column)\n"
   ],
   "metadata": {
    "collapsed": false
   }
  },
  {
   "cell_type": "code",
   "execution_count": 111,
   "outputs": [],
   "source": [
    "for action in actions_input:\n",
    "    a,b = action.split(\" from \")\n",
    "    b = b.split(\" to \")\n",
    "\n",
    "    start, end = [int(x.strip()) for x in b]\n",
    "    count = int(a.replace(\"move \", \"\"))\n",
    "\n",
    "    for i in range(0, count):\n",
    "        x = stacks[start-1].pop()\n",
    "        stacks[end-1].append(x)"
   ],
   "metadata": {
    "collapsed": false
   }
  },
  {
   "cell_type": "code",
   "execution_count": 112,
   "outputs": [
    {
     "data": {
      "text/plain": "'HNSNMTLHQ'"
     },
     "execution_count": 112,
     "metadata": {},
     "output_type": "execute_result"
    }
   ],
   "source": [
    "result =\"\"\n",
    "for x in stacks:\n",
    "    result = result + x[-1]\n",
    "result"
   ],
   "metadata": {
    "collapsed": false
   }
  },
  {
   "cell_type": "markdown",
   "source": [
    "Part 2"
   ],
   "metadata": {
    "collapsed": false
   }
  },
  {
   "cell_type": "code",
   "execution_count": 116,
   "outputs": [],
   "source": [
    "stacks = []\n",
    "for j in column_index:\n",
    "    column = []\n",
    "    for i in range(1, len(stacks_input)+1):\n",
    "        val = stacks_input[-i][j]\n",
    "        if not val.isspace():\n",
    "            column.append(val)\n",
    "    stacks.append(column)\n"
   ],
   "metadata": {
    "collapsed": false
   }
  },
  {
   "cell_type": "code",
   "execution_count": 117,
   "outputs": [],
   "source": [
    "for action in actions_input:\n",
    "    a,b = action.split(\" from \")\n",
    "    b = b.split(\" to \")\n",
    "\n",
    "    start, end = [int(x.strip()) for x in b]\n",
    "    count = int(a.replace(\"move \", \"\"))\n",
    "\n",
    "    temp = []\n",
    "    for i in range(0, count):\n",
    "        x = stacks[start-1].pop()\n",
    "        temp.append(x)\n",
    "    for i in range(0, count):\n",
    "        stacks[end-1].append(temp.pop())\n"
   ],
   "metadata": {
    "collapsed": false
   }
  },
  {
   "cell_type": "code",
   "execution_count": 118,
   "outputs": [
    {
     "data": {
      "text/plain": "'RNLFDJMCT'"
     },
     "execution_count": 118,
     "metadata": {},
     "output_type": "execute_result"
    }
   ],
   "source": [
    "result =\"\"\n",
    "for x in stacks:\n",
    "    result = result + x[-1]\n",
    "result"
   ],
   "metadata": {
    "collapsed": false
   }
  }
 ],
 "metadata": {
  "kernelspec": {
   "display_name": "Python 3",
   "language": "python",
   "name": "python3"
  },
  "language_info": {
   "codemirror_mode": {
    "name": "ipython",
    "version": 2
   },
   "file_extension": ".py",
   "mimetype": "text/x-python",
   "name": "python",
   "nbconvert_exporter": "python",
   "pygments_lexer": "ipython2",
   "version": "2.7.6"
  }
 },
 "nbformat": 4,
 "nbformat_minor": 0
}
