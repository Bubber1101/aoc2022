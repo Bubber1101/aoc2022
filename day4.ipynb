{
 "cells": [
  {
   "cell_type": "markdown",
   "source": [
    "--- Day 4: Camp Cleanup ---\n",
    "___In how many assignment pairs does one range fully contain the other?___"
   ],
   "metadata": {
    "collapsed": false
   }
  },
  {
   "cell_type": "code",
   "execution_count": 42,
   "metadata": {
    "collapsed": true
   },
   "outputs": [],
   "source": [
    "count = 0\n",
    "with open(\"inputs/day4.txt\") as file:\n",
    "    for i in file:\n",
    "        ranges = i.strip().split(\",\")\n",
    "        a1,b1 = [int(x) for x in ranges[0].split(\"-\")]\n",
    "        a2,b2 = [int(x) for x in ranges[1].split(\"-\")]\n",
    "        if (a1 <= a2 and b1 >= b2) or (a2 <= a1 and b2 >= b1):\n",
    "            count = count + 1\n"
   ]
  },
  {
   "cell_type": "code",
   "execution_count": 43,
   "outputs": [
    {
     "name": "stdout",
     "output_type": "stream",
     "text": [
      "540\n"
     ]
    }
   ],
   "source": [
    "print(count)"
   ],
   "metadata": {
    "collapsed": false
   }
  },
  {
   "cell_type": "markdown",
   "source": [
    "--- Part Two ---\n",
    "\n",
    "___In how many assignment pairs do the ranges overlap?___"
   ],
   "metadata": {
    "collapsed": false
   }
  },
  {
   "cell_type": "code",
   "execution_count": 44,
   "outputs": [
    {
     "name": "stdout",
     "output_type": "stream",
     "text": [
      "872\n"
     ]
    }
   ],
   "source": [
    "count = 0\n",
    "with open(\"inputs/day4.txt\") as file:\n",
    "    for i in file:\n",
    "        ranges = i.strip().split(\",\")\n",
    "        a1,b1 = [int(x) for x in ranges[0].split(\"-\")]\n",
    "        a2,b2 = [int(x) for x in ranges[1].split(\"-\")]\n",
    "        if ((a2 >= a1 and a2 <= b1) or (a1 >= a2 and a1 <= b2)) or ((b2 >= a1 and b2 <= b1) or (b1 >= a2 and b1 <= b2)):\n",
    "            count = count + 1\n",
    "print(count)"
   ],
   "metadata": {
    "collapsed": false
   }
  }
 ],
 "metadata": {
  "kernelspec": {
   "display_name": "Python 3",
   "language": "python",
   "name": "python3"
  },
  "language_info": {
   "codemirror_mode": {
    "name": "ipython",
    "version": 2
   },
   "file_extension": ".py",
   "mimetype": "text/x-python",
   "name": "python",
   "nbconvert_exporter": "python",
   "pygments_lexer": "ipython2",
   "version": "2.7.6"
  }
 },
 "nbformat": 4,
 "nbformat_minor": 0
}
