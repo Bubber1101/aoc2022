{
 "cells": [
  {
   "cell_type": "code",
   "execution_count": 25,
   "outputs": [],
   "source": [
    "winning_pairs = {\n",
    "    'A': 'Y',\n",
    "    'B': 'Z',\n",
    "    'C': 'X'\n",
    "}\n",
    "\n",
    "draw_pairs = {\n",
    "    'A': 'X',\n",
    "    'B': 'Y',\n",
    "    'C': 'Z'\n",
    "}\n",
    "\n",
    "points = {\n",
    "    'X': 1,\n",
    "    'Y': 2,\n",
    "    'Z': 3\n",
    "}"
   ],
   "metadata": {
    "collapsed": false
   }
  },
  {
   "cell_type": "code",
   "execution_count": 26,
   "metadata": {
    "collapsed": true
   },
   "outputs": [
    {
     "name": "stdout",
     "output_type": "stream",
     "text": [
      "10624\n"
     ]
    }
   ],
   "source": [
    "score = 0\n",
    "with open(\"day2.txt\") as file:\n",
    "    for i in file:\n",
    "        a, b = i.split()\n",
    "        score = score + points[b]\n",
    "        if winning_pairs[a] == b:\n",
    "            score = score + 6\n",
    "        if draw_pairs[a] == b:\n",
    "            score = score + 3\n",
    "\n",
    "print(score)"
   ]
  },
  {
   "cell_type": "code",
   "execution_count": 27,
   "outputs": [],
   "source": [
    "winning = {\n",
    "    'A': 'B',\n",
    "    'B': 'C',\n",
    "    'C': 'A'\n",
    "}\n",
    "\n",
    "losing = {\n",
    "    'A': 'C',\n",
    "    'B': 'A',\n",
    "    'C': 'B'\n",
    "}\n",
    "\n",
    "scoring = {\n",
    "    'A': 1,\n",
    "    'B': 2,\n",
    "    'C': 3\n",
    "}\n",
    "\n",
    "LOSE = 'X'\n",
    "DRAW = 'Y'\n",
    "WIN = 'Z'\n",
    "\n",
    "\n",
    "def win(a):\n",
    "    return 6, winning[a]\n",
    "\n",
    "def draw(a):\n",
    "    return 3, a\n",
    "\n",
    "def lose(a):\n",
    "    return 0, losing[a]\n",
    "\n",
    "strategy = {\n",
    "    WIN: win,\n",
    "    DRAW: draw,\n",
    "    LOSE: lose,\n",
    "}"
   ],
   "metadata": {
    "collapsed": false
   }
  },
  {
   "cell_type": "code",
   "execution_count": 28,
   "outputs": [
    {
     "name": "stdout",
     "output_type": "stream",
     "text": [
      "14060\n"
     ]
    }
   ],
   "source": [
    "score = 0\n",
    "\n",
    "with open(\"day2.txt\") as file:\n",
    "    for i in file:\n",
    "        a, result = i.split()\n",
    "        point, b = strategy[result](a)\n",
    "        score = score + point + scoring[b]\n",
    "\n",
    "print(score)"
   ],
   "metadata": {
    "collapsed": false
   }
  }
 ],
 "metadata": {
  "kernelspec": {
   "display_name": "Python 3",
   "language": "python",
   "name": "python3"
  },
  "language_info": {
   "codemirror_mode": {
    "name": "ipython",
    "version": 2
   },
   "file_extension": ".py",
   "mimetype": "text/x-python",
   "name": "python",
   "nbconvert_exporter": "python",
   "pygments_lexer": "ipython2",
   "version": "2.7.6"
  }
 },
 "nbformat": 4,
 "nbformat_minor": 0
}
